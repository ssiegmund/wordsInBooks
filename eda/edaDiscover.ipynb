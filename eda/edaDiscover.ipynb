{
 "nbformat": 4,
 "nbformat_minor": 2,
 "metadata": {
  "language_info": {
   "name": "python",
   "codemirror_mode": {
    "name": "ipython",
    "version": 3
   },
   "version": "3.7.6-final"
  },
  "orig_nbformat": 2,
  "file_extension": ".py",
  "mimetype": "text/x-python",
  "name": "python",
  "npconvert_exporter": "python",
  "pygments_lexer": "ipython3",
  "version": 3,
  "kernelspec": {
   "name": "python38232bit7103072575f14358a1c70d977d3a3f1f",
   "display_name": "Python 3.8.2 32-bit"
  }
 },
 "cells": [
  {
   "cell_type": "code",
   "execution_count": null,
   "metadata": {},
   "outputs": [],
   "source": [
    "import numpy as np # linear algebra\n",
    "import pandas as pd # data processing, CSV file I/O (e.g. pd.read_csv)\n",
    "import re # regex\n",
    "from collections import Counter\n",
    "\n",
    "# select book to read\n",
    "book_path = 'balu_de'\n",
    "\n",
    "# read processed csv of book\n",
    "book_list = pd.read_csv(\"../data/processed/\" + book_path + \"_list.csv\")\n",
    "book_bag = pd.read_csv(\"../data/processed/\" + book_path + \"_bag.csv\")\n",
    "book_meta = pd.read_csv(\"../data/processed/\" + book_path + \"_meta.csv\")\n",
    "book_2gramList = pd.read_csv(\"../data/processed/\" + book_path + \"_2gramList.csv\")\n",
    "book_2gramBag = pd.read_csv(\"../data/processed/\" + book_path + \"_2gramBag.csv\")\n",
    "book_3gramList = pd.read_csv(\"../data/processed/\" + book_path + \"_3gramList.csv\")\n",
    "book_3gramBag = pd.read_csv(\"../data/processed/\" + book_path + \"_3gramBag.csv\")\n",
    "book_4gramList = pd.read_csv(\"../data/processed/\" + book_path + \"_4gramList.csv\")\n",
    "book_4gramBag = pd.read_csv(\"../data/processed/\" + book_path + \"_4gramBag.csv\")\n",
    "book_001gramList = pd.read_csv(\"../data/processed/\" + book_path + \"_001gramList.csv\")"
   ]
  }
 ]
}