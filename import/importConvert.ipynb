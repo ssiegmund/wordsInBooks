{
 "nbformat": 4,
 "nbformat_minor": 2,
 "metadata": {
  "language_info": {
   "name": "python",
   "codemirror_mode": {
    "name": "ipython",
    "version": 3
   },
   "version": "3.8.2-final"
  },
  "orig_nbformat": 2,
  "file_extension": ".py",
  "mimetype": "text/x-python",
  "name": "python",
  "npconvert_exporter": "python",
  "pygments_lexer": "ipython3",
  "version": 3,
  "kernelspec": {
   "name": "python38232bit7103072575f14358a1c70d977d3a3f1f",
   "display_name": "Python 3.8.2 32-bit"
  }
 },
 "cells": [
  {
   "cell_type": "code",
   "execution_count": null,
   "metadata": {},
   "outputs": [],
   "source": [
    "import PyPDF2\n",
    "import pandas as pd\n",
    "\n",
    "pdfFileObj = open('../data/raw/Exupery_Der_kleine_Prinz.pdf', 'rb')\n",
    "pdf = PyPDF2.PdfFileReader(pdfFileObj)\n",
    "\n",
    "meta = pd.DataFrame()\n",
    "meta['numPages'] = [pdf.getNumPages()]\n",
    "\n",
    "content = pd.DataFrame()\n",
    "content['page'] = [p.extractText().encode('utf-8') for p in pdf.pages]\n",
    "\n",
    "#string to list of words\n",
    "\n",
    "# \\xc4\\xb1 -> ö\n",
    "# \\xe2\\x88\\x92 -> ä\n",
    "# word verschluckt -> ü\n",
    "# \\xc2\\xa7 -> ß\n",
    "\n",
    "content.to_csv(\"../data/processed/Exupery_Der_kleine_Prinz_content.csv\", index = False)\n",
    "meta.to_csv(\"../data/processed/Exupery_Der_kleine_Prinz_meta.csv\", index = False)"
   ]
  },
  {
   "cell_type": "code",
   "execution_count": null,
   "metadata": {},
   "outputs": [],
   "source": [
    "import locale\n",
    "locale.getpreferredencoding()"
   ]
  }
 ]
}