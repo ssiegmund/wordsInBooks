{
 "nbformat": 4,
 "nbformat_minor": 2,
 "metadata": {
  "language_info": {
   "name": "python",
   "codemirror_mode": {
    "name": "ipython",
    "version": 3
   },
   "version": "3.7.6-final"
  },
  "orig_nbformat": 2,
  "file_extension": ".py",
  "mimetype": "text/x-python",
  "name": "python",
  "npconvert_exporter": "python",
  "pygments_lexer": "ipython3",
  "version": 3,
  "kernelspec": {
   "name": "python38232bit7103072575f14358a1c70d977d3a3f1f",
   "display_name": "Python 3.8.2 32-bit"
  }
 },
 "cells": [
  {
   "cell_type": "code",
   "execution_count": null,
   "metadata": {},
   "outputs": [],
   "source": [
    "import numpy as np # linear algebra\n",
    "import pandas as pd # data processing, CSV file I/O (e.g. pd.read_csv)\n",
    "import re\n",
    "from collections import Counter\n",
    "\n",
    "# read content of book\n",
    "book_raw = pd.read_csv(\"../data/processed/Prinz_raw.csv\")\n",
    "titel = 'Der kleine Prinz'\n",
    "author = 'Antoine de Saint-Exupéry'\n",
    "names =['Ich', 'Prinz']\n",
    "\n",
    "# give meta data about book\n",
    "\n",
    "# copy raw content as a list to fist column second row   \n",
    "book = book_raw.copy()"
   ]
  },
  {
   "cell_type": "code",
   "execution_count": null,
   "metadata": {},
   "outputs": [],
   "source": [
    "## layout of book = [{'raw':[], 'meta': {}, 'word_list': [], 'word_bag': {}, '2-gram': [], '3-gram': []}] in seperate csv saved at the end of the notebook\n",
    "# Note - per Hand entfert: , \" da Probleme mit pd.read_csv\n",
    "# Note - per Hand bereinigt: Inhaltsverzeichnis, erste letzte Seite, Kopf und Fußzeilen"
   ]
  },
  {
   "cell_type": "code",
   "execution_count": null,
   "metadata": {
    "tags": [
     "outputPrepend"
    ]
   },
   "outputs": [],
   "source": [
    "## tidy book\n",
    "\n",
    "# convert everything to string\n",
    "book = book.applymap(str)           # it should be string anyway\n",
    "\n",
    "# save concat all rows in book to get a very long sentence without line breaks\n",
    "sentence = ''.join(book['content'].tolist())\n",
    "\n",
    "# remove: numbers\n",
    "sentence = ''.join([i for i in sentence if not i.isdigit()])\n",
    "\n",
    "# remove . : ! ? \" - ;  etc pp w regex\n",
    "sentence = re.sub('[^0-9a-zA-ZäüöÄÖÜß ]+', '', sentence)\n",
    "\n",
    "# lower case everyting\n",
    "sentence = sentence.lower()\n",
    "\n",
    "#print(sentence)"
   ]
  },
  {
   "cell_type": "code",
   "execution_count": null,
   "metadata": {
    "tags": [
     "outputPrepend"
    ]
   },
   "outputs": [],
   "source": [
    "## book_list\n",
    "book_lst = list(sentence.split())\n",
    "alnumcheck = [book_lst[i].isalnum() for i in range(len(book_lst))]\n",
    "book_list = pd.DataFrame(book_lst)\n",
    "book_list = book_list.rename(columns={0: \"list\"})"
   ]
  },
  {
   "cell_type": "code",
   "execution_count": null,
   "metadata": {},
   "outputs": [],
   "source": [
    "## book_bag\n",
    "book_bag = {}\n",
    "\n",
    "for e in book_lst:\n",
    "    if e in book_bag:\n",
    "        book_bag[e] += 1\n",
    "    else:\n",
    "        book_bag.update({e: 1})\n",
    "\n",
    "book_bag = pd.DataFrame(book_bag.items(), columns=['word','freq'])"
   ]
  },
  {
   "cell_type": "code",
   "execution_count": null,
   "metadata": {},
   "outputs": [],
   "source": [
    "## book_meta: titel, author, pages, number of all words, number of unique words, names (list), \n",
    "book_meta = {}\n",
    "\n",
    "book_meta.update({'titel': titel})\n",
    "book_meta.update({'author': author})\n",
    "book_meta.update({'pages': [int(s) for s in re.findall(r'\\b\\d+\\b', book.content[len(book['content'])-1])][-1]})\n",
    "book_meta.update({'num_words': len(book_list['list'])})\n",
    "book_meta.update({'num_uniq': book_list['list'].nunique()})\n",
    "book_meta.update({'names': names})\n",
    "\n",
    "book_meta = pd.DataFrame(book_meta.items(), columns=['prop','value'])"
   ]
  },
  {
   "cell_type": "code",
   "execution_count": null,
   "metadata": {
    "tags": [
     "outputPrepend"
    ]
   },
   "outputs": [],
   "source": [
    "## book_2gram\n",
    "bigram_bag = Counter(zip(book_lst, book_lst[1:])).most_common()\n",
    "bigram_list = [list(e) for e in zip(book_lst, book_lst[1:])]\n",
    "\n",
    "book_2gramBag = pd.DataFrame(bigram_bag, columns=['bigram','freq'])\n",
    "book_2gramList = pd.DataFrame(bigram_list, columns=['first','second'])"
   ]
  },
  {
   "cell_type": "code",
   "execution_count": null,
   "metadata": {},
   "outputs": [],
   "source": [
    "## book_3gram\n",
    "def find_ngrams(input_list, n):\n",
    "  return zip(*(input_list[i:] for i in range(n)))\n",
    "\n",
    "trigram_bag = Counter(find_ngrams(book_lst, 3)).most_common()\n",
    "trigram_list = [list(e) for e in find_ngrams(book_lst, 3)]\n",
    "\n",
    "book_3gramBag = pd.DataFrame(trigram_bag, columns=['trigram','freq'])\n",
    "book_3gramList = pd.DataFrame(trigram_list, columns=['first','second', 'third'])\n",
    ""
   ]
  },
  {
   "cell_type": "code",
   "execution_count": null,
   "metadata": {},
   "outputs": [],
   "source": [
    "## book_5gram\n",
    "def find_ngrams(input_list, n):\n",
    "  return zip(*(input_list[i:] for i in range(n)))\n",
    "\n",
    "quadrigram_bag = Counter(find_ngrams(book_lst, 4)).most_common()\n",
    "quadrigram_list = [list(e) for e in find_ngrams(book_lst, 4)]\n",
    "\n",
    "book_4gramBag = pd.DataFrame(quadrigram_bag, columns=['quadrigram','freq'])\n",
    "book_4gramList = pd.DataFrame(quadrigram_list, columns=['first','second', 'third', 'fourth'])"
   ]
  },
  {
   "cell_type": "code",
   "execution_count": null,
   "metadata": {},
   "outputs": [],
   "source": [
    "## book_001gram\n",
    "def find_ngrams(input_list, n):\n",
    "  return zip(*(input_list[i:] for i in range(n)))\n",
    "\n",
    "per = len(book_lst) // 100 \n",
    "onepergram_bag = Counter(find_ngrams(book_lst, per)).most_common()\n",
    "onepergram_list = [list(e) for e in find_ngrams(book_lst, per)]\n",
    "\n",
    "# book_001gramBag = pd.DataFrame(onepergram_bag, columns=['onepergram','freq'])\n",
    "book_001gramList = pd.DataFrame(onepergram_list)"
   ]
  },
  {
   "cell_type": "code",
   "execution_count": null,
   "metadata": {},
   "outputs": [],
   "source": [
    "book_list.to_csv(\"../data/processed/Prinz_list.csv\", index = False)\n",
    "book_bag.to_csv(\"../data/processed/Prinz_bag.csv\", index = False)\n",
    "book_meta.to_csv(\"../data/processed/Prinz_meta.csv\", index = False)\n",
    "book_2gramList.to_csv(\"../data/processed/Prinz_2gramList.csv\", index = False)\n",
    "book_2gramBag.to_csv(\"../data/processed/Prinz_2gramBag.csv\", index = False)\n",
    "book_3gramList.to_csv(\"../data/processed/Prinz_3gramList.csv\", index = False)\n",
    "book_3gramBag.to_csv(\"../data/processed/Prinz_3gramBag.csv\", index = False)\n",
    "book_4gramList.to_csv(\"../data/processed/Prinz_4gramList.csv\", index = False)\n",
    "book_4gramBag.to_csv(\"../data/processed/Prinz_4gramBag.csv\", index = False)\n",
    "book_001gramList.to_csv(\"../data/processed/Prinz_001gramList.csv\", index = False)\n",
    "# book_001gramBag.to_csv(\"../data/processed/Prinz_001gramBag.csv\", index = False)"
   ]
  }
 ]
}