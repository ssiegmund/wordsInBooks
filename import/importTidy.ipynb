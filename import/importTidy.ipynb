{
 "nbformat": 4,
 "nbformat_minor": 2,
 "metadata": {
  "language_info": {
   "name": "python",
   "codemirror_mode": {
    "name": "ipython",
    "version": 3
   },
   "version": "3.7.6-final"
  },
  "orig_nbformat": 2,
  "file_extension": ".py",
  "mimetype": "text/x-python",
  "name": "python",
  "npconvert_exporter": "python",
  "pygments_lexer": "ipython3",
  "version": 3,
  "kernelspec": {
   "name": "python38232bit7103072575f14358a1c70d977d3a3f1f",
   "display_name": "Python 3.8.2 32-bit"
  }
 },
 "cells": [
  {
   "cell_type": "code",
   "execution_count": null,
   "metadata": {},
   "outputs": [],
   "source": [
    "import numpy as np # linear algebra\n",
    "import pandas as pd # data processing, CSV file I/O (e.g. pd.read_csv)\n",
    "\n",
    "# read content of book\n",
    "book_raw = pd.read_csv(\"../data/processed/Prinz_raw.csv\")\n",
    "\n",
    "# give meta data about book\n",
    "\n",
    "# copy raw content as a list to fist column second row   \n",
    "book = book_raw.copy()"
   ]
  },
  {
   "cell_type": "code",
   "execution_count": null,
   "metadata": {},
   "outputs": [],
   "source": [
    "## layout of book = [{'raw':[], 'meta': {}, 'word_list': [], 'word_bag': {}, '2-gram': [], '3-gram': []}] in seperate csv saved at the end of the notebook\n",
    "# Note - per Hand entfert: , \" da Probleme mit pd.read_csv\n",
    "# Note - per Hand bereinigt: Inhaltsverzeichnis, erste letzte Seite, Kopf und Fußzeilen"
   ]
  },
  {
   "cell_type": "code",
   "execution_count": null,
   "metadata": {
    "tags": [
     "outputPrepend"
    ]
   },
   "outputs": [],
   "source": [
    "## tidy book\n",
    "\n",
    "# convert everything to string\n",
    "book = book.applymap(str)           # it should be string anyway\n",
    "\n",
    "# save concat all rows in book to get a very long sentence without line breaks\n",
    "sentence = ''.join(book['content'].tolist())\n",
    "\n",
    "# remove: numbers\n",
    "sentence = ''.join([i for i in sentence if not i.isdigit()])\n",
    "\n",
    "# remove . : ! ? \" - ;  etc pp\n",
    "sentence = sentence.replace('.','')\n",
    "sentence = sentence.replace(':','')\n",
    "sentence = sentence.replace('!','')\n",
    "sentence = sentence.replace('?','')\n",
    "sentence = sentence.replace('\"','')\n",
    "sentence = sentence.replace('-','')\n",
    "sentence = sentence.replace('–','')\n",
    "sentence = sentence.replace(';','')\n",
    "sentence = sentence.replace('(','')\n",
    "sentence = sentence.replace(')','')\n",
    "sentence = sentence.replace('=','')\n",
    "sentence = sentence.replace('+','')\n",
    "sentence = sentence.replace('$','')\n",
    "sentence = sentence.replace('§','')\n",
    "sentence = sentence.replace('%','')\n",
    "sentence = sentence.replace('&','')\n",
    "sentence = sentence.replace('/','')\n",
    "sentence = sentence.replace('*','')\n",
    "sentence = sentence.replace('_','')\n",
    "sentence = sentence.replace('<','')\n",
    "sentence = sentence.replace('>','')\n",
    "sentence = sentence.replace('#','')\n",
    "sentence = sentence.replace('\\'','')\n",
    "sentence = sentence.replace('“','')\n",
    "sentence = sentence.replace('…','')\n",
    "\n",
    "# lower case everyting\n",
    "sentence = sentence.lower()\n",
    "\n",
    "print(sentence)"
   ]
  },
  {
   "cell_type": "code",
   "execution_count": null,
   "metadata": {
    "tags": [
     "outputPrepend"
    ]
   },
   "outputs": [],
   "source": [
    "## book_list\n",
    "book_lst = list(sentence.split())\n",
    "alnumcheck = [book_lst[i].isalnum() for i in range(len(book_lst))]\n",
    "book_list = pd.DataFrame(book_lst)\n",
    "book_list = book_list.rename(columns={0: \"list\"})"
   ]
  },
  {
   "cell_type": "code",
   "execution_count": null,
   "metadata": {},
   "outputs": [],
   "source": [
    "## book_bag\n",
    "book_bag = {}\n",
    "\n",
    "for e in book_lst:\n",
    "    if e in book_bag:\n",
    "        book_bag[e] += 1\n",
    "    else:\n",
    "        book_bag.update({e: 1})\n",
    "\n",
    "book_bag = pd.DataFrame(book_bag.items(), columns=['word','freq'])"
   ]
  },
  {
   "cell_type": "code",
   "execution_count": null,
   "metadata": {},
   "outputs": [],
   "source": [
    "## book_meta: titel, author, pages, number of all words, number of unique words, names (list), \n",
    "\n",
    "unique = book_list['list'].nunique()"
   ]
  },
  {
   "cell_type": "code",
   "execution_count": null,
   "metadata": {},
   "outputs": [],
   "source": [
    "## book_2gram"
   ]
  },
  {
   "cell_type": "code",
   "execution_count": null,
   "metadata": {},
   "outputs": [],
   "source": [
    "## book_3gram"
   ]
  },
  {
   "cell_type": "code",
   "execution_count": null,
   "metadata": {},
   "outputs": [],
   "source": [
    "## book_05gram"
   ]
  },
  {
   "cell_type": "code",
   "execution_count": null,
   "metadata": {},
   "outputs": [],
   "source": [
    "book_list.to_csv(\"../data/processed/Prinz_list.csv\", index = False)\n",
    "book_bag.to_csv(\"../data/processed/Prinz_bag.csv\", index = False)\n",
    "book_meta.to_csv(\"../data/processed/Prinz_meta.csv\", index = False)\n",
    "book_2gram.to_csv(\"../data/processed/Prinz_2gram.csv\", index = False)\n",
    "book_3gram.to_csv(\"../data/processed/Prinz_3gram.csv\", index = False)\n",
    "book_05gram.to_csv(\"../data/processed/Prinz_05gram.csv\", index = False)"
   ]
  }
 ]
}