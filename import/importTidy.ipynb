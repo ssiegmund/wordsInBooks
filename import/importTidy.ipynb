{
 "nbformat": 4,
 "nbformat_minor": 2,
 "metadata": {
  "language_info": {
   "name": "python",
   "codemirror_mode": {
    "name": "ipython",
    "version": 3
   },
   "version": "3.8.2-final"
  },
  "orig_nbformat": 2,
  "file_extension": ".py",
  "mimetype": "text/x-python",
  "name": "python",
  "npconvert_exporter": "python",
  "pygments_lexer": "ipython3",
  "version": 3,
  "kernelspec": {
   "name": "python38232bit7103072575f14358a1c70d977d3a3f1f",
   "display_name": "Python 3.8.2 32-bit"
  }
 },
 "cells": [
  {
   "cell_type": "code",
   "execution_count": 1,
   "metadata": {},
   "outputs": [],
   "source": [
    "import numpy as np # linear algebra\n",
    "import pandas as pd # data processing, CSV file I/O (e.g. pd.read_csv)\n",
    "\n",
    "# read content of book\n",
    "book_raw = pd.read_csv(\"../data/processed/Prinz_raw.csv\")\n",
    "\n",
    "# copy raw content as a list to fist column second row   \n",
    "book = book_raw.copy()"
   ]
  },
  {
   "cell_type": "code",
   "execution_count": 2,
   "metadata": {},
   "outputs": [],
   "source": [
    "## layout of book = [{'raw':[], 'meta': {}, 'word_list': [], 'word_bag': {}, '2-gram': [], '3-gram': []}] in seperate csv saved at the end of the notebook\n",
    "# Note - per Hand entfert: , \" da Probleme mit pd.read_csv\n",
    "# Note - per Hand bereinigt: Inhaltsverzeichnis, erste letzte Seite, Kopf und Fußzeilen"
   ]
  },
  {
   "cell_type": "code",
   "execution_count": 16,
   "metadata": {
    "tags": [
     "outputPrepend"
    ]
   },
   "outputs": [
    {
     "output_type": "stream",
     "name": "stdout",
     "text": "Wohin wollen sie? - Der Zugführer weiß es selbst nicht sagte der Weichensteller. Und ein erleuchteter Schnellzug donnerte in die entgegengesetzte Richtung vorbei. - Sie kommen schon zurück? fragte der kleine Prinz ... - Das sind nicht dieselben sagte der Weichensteller. Sie wurden ausgetauscht. - Waren sie nicht zufrieden dort wo sie waren? - Man ist niemals dort zufrieden wo man ist sagte der Weichen-steller. Und der Donner eines dritten Schnellzugs grollte. - Verfolgen sie die ersten Reisenden? fragte der kleine Prinz. - Sie verfolgen gar nichts sagte der Weichensteller. Sie schlafen im Inneren oder sie gähnen. Nur die Kinder drücken ihre Nasen an den Scheiben platt. - Nur die Kinder wissen wohin sie wollen sagte der kleine Prinz. Sie wenden ihre Zeit an eine Stoffpuppe und sie wächst ihnen so ans Herz und nimmt man sie ihnen weg dann weinen sie ... - Sie haben es gut sagte der Weichensteller. - Guten Tag sagte der kleine Prinz. - Guten Tag sagte der Händler. Er handelte mit durststillenden Spezialpillen. Man schluckt eine pro Woche und schon hat man nicht mehr das Bedürfnis zu trinken.  - Warum verkaufst du das? sagte der kleine Prinz. - Das spart viel Zeit sagte der Händler. Experten haben das schon berechnet. Man spart dreiundfünfzig Minuten pro Woche. - Und was macht man mit den dreiundfünfzig Minuten? - Man macht damit was man will ... - Ich sagte sich der kleine Prinz ich würde wenn ich dreiund-fünfzig Minuten übrig hätte ganz in Ruhe zu einem Brunnen laufen ... Nun war meine Panne in der Wüste schon acht Tage her und ich hatte mir gerade die Geschichte vom Pillenhändler angehört als ich den letzten Tropfen meines Wasservorrates trank. - Ach sagte ich zum kleinen Prinzen sie sind sehr schön deine Erinnerungen. Aber ich habe mein Flugzeug noch nicht repariert ich habe nichts mehr zu trinken und ich wäre glücklich wenn auch ich ganz in Ruhe zu einem Brunnen laufen könnte. - Mein Freund der Fuchs sagte er. - Mein kleines Kerlchen es geht nicht mehr um den Fuchs! - Warum? - Weil wir verdursten werden ... Er verstand meine Erklärung nicht und antwortete: - Es ist gut einen Freund gehabt zu haben selbst wenn man ster-ben muss ... Ich bin sehr froh dass ich einen Fuchs zum Freund hatte. Er erkennt die Gefahr nicht sagte ich mir. Er hat niemals Hunger oder Durst. Ihm reicht ein bisschen Sonne ... Aber er sah mich an und antwortete auf meinen Gedanken:   - Ich habe auch Durst ... suchen wir einen Brunnen ... Ich machte eine verzweifelte Geste: Es ist absurd auf gut Glück einen Brunnen in der Unendlichkeit der Wüste zu suchen. Dennoch machten wir uns auf den Weg.  Als wir stundenlang schweigend herumgelaufen waren brach die Nacht herein und die Sterne begannen zu leuchten. Ich nahm sie wahr wie im Traum ich hatte ein bisschen Fieber das machte der Durst. Die Worte des kleinen Prinzen tanzten durch mein Bewusst-sein: - Du hast also auch Durst? fragte ich ihn. Aber er antwortete nicht auf meine Frage. Er sagte nur:  - Wasser ist auch gut für das Herz ...  Ich verstand seine Antwort nicht und ich schwieg ... ich wusste ja dass man ihn nicht ausfragen sollte. Er war müde. Er setzte sich hin. Ich setzte mich neben ihn. Und nach einem Augenblick Stille sagte er noch:  - Die Sterne sind schön weil sie an eine Blume erinnern die man nicht sieht ... Ich antworte das stimmt und ich schaute schweigend auf die Fal-ten im Sand unter dem Mond.  - Die Wüste ist schön ... fügte er hinzu. Und es stimmte. Ich habe die Wüste immer geliebt. Man setzt sich auf eine Sanddüne. Man sieht nichts. Man hört nichts. Und trotz-dem leuchtet etwas im Stillen ... - Was die Wüste so schön macht sagte der kleine Prinz ist dass sie irgendwo einen Brunnen versteckt hält. Ich war überrascht plötzlich dieses rätselhafte Leuchten des Sandes zu verstehen. Als ich ein kleiner Junge war wohnte ich in einem alten Haus und der Legende nach war dort ein Schatz versteckt. Natürlich gelang es nie jemandem ihn zu entdecken vielleicht nicht mal danach zu suchen. Aber er verzauberte das ganze Haus. Mein Haus versteckte am Grunde seines Herzens ein Geheimnis.   - Ja sagte ich zum kleinen Prinzen. Ob es sich nun um das Haus die Sterne oder die Wüste handelt; was ihre Schönheit aus-macht ist unsichtbar! - Ich bin zufrieden sagte er dass du es genauso siehst wie mein Fuchs. Weil der kleine Prinz einschlief nahm ich ihn in meine Arme und lief weiter. Ich war gerührt. Mir schien ich trüge einen zerbrechli-chen Schatz. Es schien mir sogar so als gäbe es nichts Zerbrechli-cheres auf der Erde. Ich schaute im Mondlicht auf diese blasse Stirn die geschlossenen Augen die Haarsträhnen die im Wind zitterten und ich sagte mir: Was ich vor mir sehe ist nur eine Hülle. Das Eigentliche ist un-sichtbar ... Da seine halbgeöffneten Lippen ein halbes Lächeln an-deuteten sagte ich mir noch: Was mich am kleinen schlafenden Prinzen so rührt ist seine Treue zu einer Blume das ist das Bild einer Rose das in ihm strahlt wie die Flamme einer Kerze selbst wenn er schläft ... Und er erschien mir noch zerbrechlicher. Man muss Kerzen gut schützen: Schon ein Windstoß kann sie auslöschen. Und während ich so lief entdeckte ich bei Tagesanbruch den Brunnen. - Die Menschen sagte der kleine Prinz drängen sich in Schnell-züge aber sie wissen nicht wohin sie wollen. So fahren sie hin und her und dabei immer im Kreis ...  Und er fügte hinzu: - Das ist es nicht wert ... Der Brunnen zu dem wir kamen sah nicht so aus wie die üblichen Sahara-Brunnen. Die Brunnen in der Sahara sind nur einfache Lö-cher im Sand. Dieser aber glich einem Dorfbrunnen. Aber da war kein Dorf und ich glaubte zu träumen. - Merkwürdig sagte ich zum kleinen Prinzen alles ist bereit: die Winde der Eimer das Seil ... Er lachte fasste das Seil und ließ die Brunnenwinde spielen. Und sie ächzte wie ein alter Wetterhahn wenn der Wind lange geschla-fen hat. - Hörst du sagte der kleine Prinz wir wecken diesen Brunnen und er singt ... Ich wollte nicht dass er sich zu sehr anstrengt: - Lass mich das machen sagte ich das ist zu schwer für dich.  Langsam zog ich den Eimer bis zum Rand hinauf. Ich stellte ihn ganz aufrecht hin. In meinen Ohren hallte noch das Geräusch der Zugwinde und im zitternden Wasser sah ich die Sonne schimmern. - Mich dürstet es nach diesem Wasser sagte der kleine Prinz gib mir zu trinken ... Und ich verstand was er gesucht hatte! !Ich hob den Eimer an seine Lippen. Er trank mit geschlossenen Augen. Das war köstlich wie ein Fest. Dieses Wasser war alles an-dere als ein einfaches Lebensmittel. Es war entstanden aus dem Marsch unter den Sternen aus dem Gesang der Brunnenwinde aus der Anstrengung meiner Arme. Es tat dem Herzen so gut wie ein Geschenk. Genau so machten – als ich ein kleiner Junge war – das Licht des Weihnachtsbaums die Musik der Mitternachtsmesse die Milde des Lächelns den ganzen Zauber des Geschenks aus das ich bekam. - Die Menschen bei dir sagte der kleine Prinz züchten fünftau-send Rosen im gleichen Garten ... und sie finden nicht wonach sie suchen ... - Sie finden es nicht antwortete ich ... - Und dabei könnte man das was sie suchen in einer einzigen Rose oder in ein wenig Wasser finden ... - Natürlich antwortete ich. Und der kleine Prinz ergänzte: - Aber die Augen sind blind man muss mit dem Herzen suchen. Ich hatte getrunken. Ich atmete tief durch. Der Sand hat bei Tages-anbruch die Farbe von Honig. Ich war glücklich über diese Honig-farbe. Warum musste ich traurig sein ... - Du musst dein Versprechen halten sagte der kleine Prinz sanft der sich wieder neben mich gesetzt hatte. - Welches Versprechen? - Du weißt ... ein Maulkorb für mein Schaf ... ich bin verantwort-lich für diese Blume!  Ich holte aus meiner Tasche meine Zeichenentwürfe hervor. Der kleine Prinz sah sie und sagte lachend: - Deine Affenbrotbäume sehen ein bisschen so aus wie Kohlköpfe ...  - Oh!  Ich war so stolz auf die Affenbrotbäume gewesen. - Dein Fuchs ... seine Ohren ... sie sehen ein bisschen wie Hörner aus ... sie sind zu lang! Und wieder lachte er. - Du bist ungerecht kleiner Kerl ich konnte schon immer nur of-fene und geschlossene Riesenschlagen zeichnen. - Oh! Das wird schon gehen sagte er die Kinder verstehen es. Ich kritzelte also einen Maulkorb. Und mein Herz zog sich zusam-men als ich sie ihm gab: - Du hast etwas vor von dem ich nichts weiß ... Aber er antwortete mir nicht. Er sagte: - Weißt du mein Fall zur Erde ... morgen jährt er sich. Und nach einem Moment Stille sagte er noch: - Mein Absturz der ereignete sich hier ganz in der Nähe ... Und wieder fühlte ich einen merkwürdigen Schmerz ohne zu ver-stehen warum.  Währenddessen fiel mir eine Frage ein: - Also ist es kein Zufall dass du an dem Morgen an dem ich dich traf so ganz allein tausend Meilen von besiedeltem Gebiet ent-fernt spazieren gingst! Du bist zu der Stelle zurückgekehrt wohin du gefallen warst? Der kleine Prinz errötete. Und zögernd fügte ich hinzu: - Vielleicht wegen des Jahrestags? Der kleine Prinz errötete wieder. Er antwortete nie auf Fragen aber wenn man rot wird dann heißt das doch jaʻ oder? - Ach sagte ich ich habe Angst!...  Aber er antwortete: - Du musst jetzt arbeiten. Du musst zurück zu deiner Maschine. Ich warte hier auf dich. Komm morgen Abend wieder... Aber ich konnte mich nicht beruhigen. Ich erinnerte mich an den Fuchs. Es kann passieren dass man ein bisschen weinen muss wenn man sich hat zähmen lassen ... Neben dem Brunnen stand eine alte Steinmauer. Als ich am Abend darauf von meiner Arbeit zurückkam sah ich von weitem den klei-nen Prinzen darauf sitzen seine Beine baumelten herab. Und ich hörte ihn reden: - Du erinnerst dich also nicht? sagte er. Es ist nicht ganz genau hier! Eine andere Stimme musste ihm geantwortet haben denn er erwi-derte: - Doch! Doch! Es ist der Tag aber hier ist nicht der Ort ... - Ich ging weiter auf die Mauer zu. Ich sah und hörte noch immer niemanden.  Trotzdem wiederholte der kleine Prinz noch einmal: - Natürlich. Du wirst sehen wo meine Spur im Sand beginnt. Du brauchst dort nur auf mich zu warten. Heute Nacht werde ich dort sein. Ich war noch zwanzig Meter von der Mauer weg und ich sah noch immer nichts. Nach einem kurzen Schweigen sagte der kleine Prinz:  - Du hast gutes Gift? Bist du sicher mich nicht lange leiden zu lassen? Ich blieb stehen das Herz zog sich in mir zusammen aber noch immer verstand ich nicht. - Verschwinde jetzt sagte er ... ich will hier wieder runter.   So senkte ich selbst die Augen hinab an den Fuß der Mauer und sprang zur Seite! Da war eine dieser gelben Schlangen die euch in dreißig Sekunden töten und sie reckte sich dem kleinen Prinzen entgegen. Ich wühlte in meiner Tasche nach meinem Revolver ich begann zu rennen aber durch den Lärm den ich machte ließ sich die Schlange sanft in den Sand gleiten wie ein Wasserstrahl der versiegt und ganz ohne Eile schlüpfte sie zwischen die Steine und klirrte dabei wie Metall. Gerade rechtzeitig schaffte ich es zur Mauer um meinen kleinen Kerl von einem Prinzen der bleich wie Schnee war in die Arme zu nehmen.  - Was ist das für eine Geschichte! Sprichst du jetzt mit Schlangen! Ich hatte ihm seinen goldenen Schal abgebunden. Ich habe ihm Wasser an die Schläfen getupft und ihm zu trinken gegeben. Und dann traute ich mich nicht ihn noch etwas zu fragen. Er blickte mich ernst an und legte mir seine Arme um den Hals. Ich fühlte wie sein Herz schlug wie das eines sterbenden Vogels auf den man mit einem Gewehr geschossen hat. Er sagte: - Ich bin froh dass du den Fehler an deiner Maschine finden konn-test. Du wirst nach Hause fahren können ... - Woher weißt du das? Gerade wollte ich ihm sagen dass mir die Reparatur trotz aller Hoffnungslosigkeit gelungen war! Er erwiderte nichts auf meine Frage aber er fügte hinzu: - Ich kehre heute auch nach Hause zurück ... Und dann melancholisch: - Das ist um einiges weiter ... um einiges schwieriger ... Ich fühlte dass etwas Außergewöhnliches passierte. Ich hielt ihn fest im Arm wie ein kleines Kind und dennoch schien es mir als glitt er senkrecht in einen Abgrund ohne dass ich imstande war ihn zurückzuhalten ... Sein ernster Blick verlor sich weit weg:  - Ich habe dein Schaf. Ich habe die Kiste für das Schaf. Und ich habe den Maulkorb ... Und er lächelte melancholisch. Ich wartete lange. Ich fühlte wie er immer wärmer wurde. - Kleiner Mann du hattest Angst ... Er hatte Angst ganz sicher! Aber er lächelte sanftmütig: - Heute Abend werde ich erst richtig Angst haben ...  Wieder erstarrte ich war gelähmt durch das Gefühl von etwas Un-widerruflichem. Und ich verstand dass ich die Vorstellung nicht ertrug nie wieder dieses Lachen zu hören. Es war für mich wie ein Brunnen in der Wüste. - Kleiner Kerl ich will dich noch lachen hören ...  Aber er sagte: - In dieser Nacht wird es ein Jahr her sein. Mein Stern wird sich genau über der Stelle befinden an der ich im letzten Jahr herunter-gefallen bin ... - Kleiner Kerl ist diese Geschichte von der Schlange und der Ver-abredung mit dem Stern nicht nur ein böser Traum ...? Aber er antwortete nicht auf meine Frage. Er sagte: - Das was zählt sieht man nicht ... - Natürlich ... - Es ist so wie mit der Blume. Wenn du eine Blume liebst die auf einem Stern wächst ist es schön nachts in den Himmel zu schauen. Auf allen Sternen wachsen Blumen. - Natürlich ... - Es ist so wie mit dem Wasser. Was du mir zu trinken gabst war wie Musik wegen der Rolle und des Seils ... erinnerst du dich ... es war köstlich. - Natürlich... - Du wirst nachts die Sterne beobachten. Mein Stern ist so klein dass ich dir nicht zeigen kann wo genau er sich befindet. Es ist besser so. Mein Stern wird einer der Sterne für dich sein. So wirst du alle Sterne gerne anschauen ... sie alle werden deine Freunde sein. Dann werde ich dir ein Geschenk machen ... Wieder lachte er. - Ach! Kleiner Kerl kleiner Kerl ich liebe dieses Lachen! - Genau das wird mein Geschenk sein ... es wird so sein wie mit dem Wasser ...   - Was meinst du? - Die Menschen haben nicht die gleichen Sterne. Den einen die reisen dienen die Sterne als Geleit. Für andere sind es nur kleine Lichtpunkte. Für wieder andere für die Gelehrten stellen sie Pro-bleme dar. Für meinen Geschäftsmann waren sie Gold. Aber alle diese Sterne schweigen. Du wirst Sterne haben wie keiner sie hat ... - Was willst du sagen?  - Wenn du nachts in den Himmel schaust wird es für dich sein als lachten alle Sterne weil ich auf einem von ihnen wohnen werde weil ich auf einem von ihnen lachen werde. Du wirst Sterne haben die lachen können! Und wieder lachte er. - Und wenn du Trost gefunden hast (denn man findet immer Trost) wirst du glücklich sein mich gekannt zu haben. Du wirst immer mein Freund sein. Du wirst Lust haben mit mir zu lachen. Und du wirst manchmal dein Fenster öffnen einfach so aus Freude ... und deine Freunde werden erstaunt sein weil sie dich lachen sehen wenn du zum Himmel schaust. Und du wirst ihnen sagen: Ja beim Anblick der Sterne muss ich immer lachen. Und sie werden dich für verrückt halten. Damit werde ich dir einen gemei-nen Streich gespielt haben ... Er lachte wieder. - Es wird sein als hätte ich dir statt der Sterne einen Haufen Glöckchen geschenkt die lachen können ... Wieder lachte er. Dann aber wurde er ernst:  - Heute Nacht ... weißt du ... komm nicht. - Ich werde dich nicht verlassen. - Es wird so aussehen als hätte ich Schmerzen ... es wird ein biss-chen so aussehen als müsste ich sterben. So ist das. Komm dir das nicht anschauen das ist nicht nötig. - Ich werde dich nicht verlassen. Aber er war besorgt.  - Ich sage dir das auch ... wegen der Schlange. Sie soll dich nicht beißen ... Schlangen sind bösartig. Die beißen auch zum Spaß ... - Ich werde dich nicht verlassen. Etwas beruhigte ihn. - Sie haben nicht ausreichend Gift für einen zweiten Biss ... In dieser Nacht habe ich nicht gesehen wie er sich auf den Weg machte. Er ging fort ohne Lärm zu machen. Als ich ihn einholte lief er  entschlossen mit schnellem Schritt vorwärts. Er sagte mir nur:  - Ah! Da bist du ...    Und er nahm mich bei der Hand. Aber quälte sich noch:  - Du hast nicht recht getan. Es wird traurig sein. Es wird aussehen als sei ich tot ... aber das wird nicht stimmen ... Ich schwieg.  - Du verstehst. Es ist zu weit. Ich kann diesen Körper hier nicht mitnehmen. Er ist zu schwer ... Ich schwieg.  - Ich werde wie ein alte übrig gebliebene Hülle sein. Das ist doch nichts Trauriges so eine Hülle ...  Ich schwieg.   Er verlor ein bisschen den Mut. Aber strengte sich doch noch ein-mal an:  - Es wird fröhlich sein. Auch ich werde die Sterne betrachten. Alle Sterne werden wie Brunnen sein mit einer verrosteten Winde. Alle Sterne werden mir zu trinken geben. Ich schwieg. - Es wird so lustig sein! Du wirst fünfhundert Millionen Glöck-chen haben ich werde fünfhundert Millionen Brunnen haben ... Dann schwieg auch er denn er weinte ... - Dort ist es. Lass mich allein einen Schritt machen.  Und er setzte sich hin denn er hatte Angst.  Er sagte: - Weißt du ... meine Blume ... ich bin für sie verantwortlich! Und sie ist so schwach! Sie ist so leichtgläubig. Sie hat nur vier lächerli-che Dornen um sich gegen die Welt zu schützen ... Ich setzte mich denn ich konnte mich nicht mehr aufrecht halten.  Ich sagte: - Hier ... Das ist alles ... Er zögerte noch kurz dann stand er auf. Er machte einen Schritt. Ich konnte mich nicht rühren. Es blitzte nur gelb ganz nah an sei-nem Knöchel. Einen Augenblick lang erstarrte er. Er schrie nicht. Er fiel sanft um wie ein Baum. Durch den Sand war nicht mal ein Geräusch zu hören.  Und jetzt ist das schon sechs Jahre her ... Ich habe diese Geschichte noch nie erzählt. Meine Kameraden die mich zu Gesicht bekamen waren sehr glücklich mich lebend wiederzusehen. Ich war traurig aber sagte zu ihnen: Das ist die Erschöpfung. Jetzt habe ich ein bisschen Trost gefunden. Das heißt ... nicht ganz. Aber ich weiß dass er auf seinem Planeten gelandet ist denn bei Tagesanbruch habe ich seinen Körper nicht wiedergefunden. So schwer war sein Körper wohl nicht ... Und ich liebe es nachts den Sternen zuzuhören. Sie sind wie fünf-hundert Millionen Glöckchen ... Aber etwas Außergewöhnliches geht vor sich. An dem Maulkorb den ich für den kleinen Prinzen gezeichnet habe habe ich den Le-derriemen vergessen! Er wird sein Schaf niemals anbinden können. So frage ich mich: Was ist auf seinem Planeten geschehen? Viel-leicht hat das Schaf doch die Blume gefressen? Mal sage ich mir: Bestimmt nicht! Der kleine Prinz schützt die Blume jede Nacht unter ihrer Glasglocke und hat ein wachsames Auge auf das Schaf ... Dann bin ich glücklich. Und alle Sterne lächeln sanft. Mal sage ich mir: Manchmal ist man ja etwas zerstreut und das allein reicht schon! Er wird eines Abends die Glasglocke vergessen haben oder das Schaf ist nachts lautlos ausgebrochen ... Dann wer-den die Glocken zu Tränen! ....  Darin liegt das große Geheimnis. Für euch die ihr den kleinen Prinzen auch liebt gilt ebenso wie für mich dass nichts auf der Welt gleich bleibt wenn  irgendwo man weiß nicht mal wo ein Schaf das wir nicht kennen eine Blume gefressen hat oder aber nicht ... Schaut euch den Himmel an. Fragt euch: Hat das Schaf die Blume gefressen oder nicht? Und ihr werdet sehen wie sich alles verändert ...  Und kein Erwachsener wird jemals verstehen welche große Bedeu-tung das hat.  Das ist für mich die schönste und die traurigste Landschaft der Welt. Es ist die gleiche Landschaft wie auf der vorigen Seite aber ich habe sie noch einmal gezeichnet um sie euch noch besser zu zei-gen. Hier ist der kleine Prinz auf die Erde gekommen und wieder verschwunden. Schaut euch die Landschaft genau an damit ihr sie sicher wieder-erkennt wenn ihr eines Tages durch die afrikanische Wüste reist. Und wenn ihr dort vorbeikommt ich bitte euch dann nehmt euch Zeit wartet ein bisschen unter dem Stern. Wenn ein Kind zu euch kommt wenn es lacht und wenn es goldene Haare hat wenn es nicht antwortet wenn man es ausfragt dann wisst ihr schon wer es ist. Also seid freundlich! Lasst mich nicht weiter traurig sein: schreibt mir schnell dass er zurückgekommen ist ...  \n"
    }
   ],
   "source": [
    "## tidy book\n",
    "\n",
    "# convert everything to string\n",
    "book = book.applymap(str)           # it should be string anyway\n",
    "\n",
    "# save concat all rows in book to get a very long sentence without line breaks\n",
    "sentence = ''.join(book['content'].tolist())\n",
    "\n",
    "# remove: numbers\n",
    "sentence = ''.join([i for i in sentence if not i.isdigit()])\n",
    "\n",
    "# remove . : ! ? \"  \n",
    "\n",
    "# lower case everyting\n",
    "\n",
    "print(sentence)"
   ]
  },
  {
   "cell_type": "code",
   "execution_count": 4,
   "metadata": {},
   "outputs": [],
   "source": [
    "## book_list"
   ]
  },
  {
   "cell_type": "code",
   "execution_count": 5,
   "metadata": {},
   "outputs": [],
   "source": [
    "## book_bag"
   ]
  },
  {
   "cell_type": "code",
   "execution_count": 6,
   "metadata": {},
   "outputs": [],
   "source": [
    "## book_meta"
   ]
  },
  {
   "cell_type": "code",
   "execution_count": 7,
   "metadata": {},
   "outputs": [],
   "source": [
    "## book_2gram"
   ]
  },
  {
   "cell_type": "code",
   "execution_count": 8,
   "metadata": {},
   "outputs": [],
   "source": [
    "## book_3gram"
   ]
  },
  {
   "cell_type": "code",
   "execution_count": 9,
   "metadata": {},
   "outputs": [
    {
     "output_type": "error",
     "ename": "NameError",
     "evalue": "name 'book_list' is not defined",
     "traceback": [
      "\u001b[1;31m---------------------------------------------------------------------------\u001b[0m",
      "\u001b[1;31mNameError\u001b[0m                                 Traceback (most recent call last)",
      "\u001b[1;32m<ipython-input-9-9495893a4870>\u001b[0m in \u001b[0;36m<module>\u001b[1;34m\u001b[0m\n\u001b[1;32m----> 1\u001b[1;33m \u001b[0mbook_list\u001b[0m\u001b[1;33m.\u001b[0m\u001b[0mto_csv\u001b[0m\u001b[1;33m(\u001b[0m\u001b[1;34m\"../data/processed/Prinz_list.csv\"\u001b[0m\u001b[1;33m,\u001b[0m \u001b[0mindex\u001b[0m \u001b[1;33m=\u001b[0m \u001b[1;32mFalse\u001b[0m\u001b[1;33m)\u001b[0m\u001b[1;33m\u001b[0m\u001b[1;33m\u001b[0m\u001b[0m\n\u001b[0m\u001b[0;32m      2\u001b[0m \u001b[0mbook_bag\u001b[0m\u001b[1;33m.\u001b[0m\u001b[0mto_csv\u001b[0m\u001b[1;33m(\u001b[0m\u001b[1;34m\"../data/processed/Prinz_bag.csv\"\u001b[0m\u001b[1;33m,\u001b[0m \u001b[0mindex\u001b[0m \u001b[1;33m=\u001b[0m \u001b[1;32mFalse\u001b[0m\u001b[1;33m)\u001b[0m\u001b[1;33m\u001b[0m\u001b[1;33m\u001b[0m\u001b[0m\n\u001b[0;32m      3\u001b[0m \u001b[0mbook_meta\u001b[0m\u001b[1;33m.\u001b[0m\u001b[0mto_csv\u001b[0m\u001b[1;33m(\u001b[0m\u001b[1;34m\"../data/processed/Prinz_meta.csv\"\u001b[0m\u001b[1;33m,\u001b[0m \u001b[0mindex\u001b[0m \u001b[1;33m=\u001b[0m \u001b[1;32mFalse\u001b[0m\u001b[1;33m)\u001b[0m\u001b[1;33m\u001b[0m\u001b[1;33m\u001b[0m\u001b[0m\n\u001b[0;32m      4\u001b[0m \u001b[0mbook_2gram\u001b[0m\u001b[1;33m.\u001b[0m\u001b[0mto_csv\u001b[0m\u001b[1;33m(\u001b[0m\u001b[1;34m\"../data/processed/Prinz_2gram.csv\"\u001b[0m\u001b[1;33m,\u001b[0m \u001b[0mindex\u001b[0m \u001b[1;33m=\u001b[0m \u001b[1;32mFalse\u001b[0m\u001b[1;33m)\u001b[0m\u001b[1;33m\u001b[0m\u001b[1;33m\u001b[0m\u001b[0m\n\u001b[0;32m      5\u001b[0m \u001b[0mbook_3gram\u001b[0m\u001b[1;33m.\u001b[0m\u001b[0mto_csv\u001b[0m\u001b[1;33m(\u001b[0m\u001b[1;34m\"../data/processed/Prinz_3gram.csv\"\u001b[0m\u001b[1;33m,\u001b[0m \u001b[0mindex\u001b[0m \u001b[1;33m=\u001b[0m \u001b[1;32mFalse\u001b[0m\u001b[1;33m)\u001b[0m\u001b[1;33m\u001b[0m\u001b[1;33m\u001b[0m\u001b[0m\n",
      "\u001b[1;31mNameError\u001b[0m: name 'book_list' is not defined"
     ]
    }
   ],
   "source": [
    "book_list.to_csv(\"../data/processed/Prinz_list.csv\", index = False)\n",
    "book_bag.to_csv(\"../data/processed/Prinz_bag.csv\", index = False)\n",
    "book_meta.to_csv(\"../data/processed/Prinz_meta.csv\", index = False)\n",
    "book_2gram.to_csv(\"../data/processed/Prinz_2gram.csv\", index = False)\n",
    "book_3gram.to_csv(\"../data/processed/Prinz_3gram.csv\", index = False)"
   ]
  }
 ]
}