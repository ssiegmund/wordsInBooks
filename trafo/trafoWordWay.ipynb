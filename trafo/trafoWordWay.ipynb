{
 "nbformat": 4,
 "nbformat_minor": 2,
 "metadata": {
  "language_info": {
   "name": "python",
   "codemirror_mode": {
    "name": "ipython",
    "version": 3
   },
   "version": "3.7.6-final"
  },
  "orig_nbformat": 2,
  "file_extension": ".py",
  "mimetype": "text/x-python",
  "name": "python",
  "npconvert_exporter": "python",
  "pygments_lexer": "ipython3",
  "version": 3,
  "kernelspec": {
   "name": "python38232bit7103072575f14358a1c70d977d3a3f1f",
   "display_name": "Python 3.8.2 32-bit"
  }
 },
 "cells": [
  {
   "cell_type": "code",
   "execution_count": null,
   "metadata": {},
   "outputs": [],
   "source": [
    "import numpy as np # linear algebra\n",
    "import pandas as pd # data processing, CSV file I/O (e.g. pd.read_csv)\n",
    "import re # regex\n",
    "from collections import Counter\n",
    "\n",
    "# select book to read\n",
    "book_path = 'balu_de'\n",
    "\n",
    "# read processed csv of book\n",
    "book_list = pd.read_csv(\"../data/processed/\" + book_path + \"_list.csv\")\n",
    "book_bag = pd.read_csv(\"../data/processed/\" + book_path + \"_bag.csv\")\n",
    "book_meta = pd.read_csv(\"../data/processed/\" + book_path + \"_meta.csv\")\n",
    "book_2gramList = pd.read_csv(\"../data/processed/\" + book_path + \"_2gramList.csv\")\n",
    "book_2gramBag = pd.read_csv(\"../data/processed/\" + book_path + \"_2gramBag.csv\")\n",
    "book_3gramList = pd.read_csv(\"../data/processed/\" + book_path + \"_3gramList.csv\")\n",
    "book_3gramBag = pd.read_csv(\"../data/processed/\" + book_path + \"_3gramBag.csv\")\n",
    "book_4gramList = pd.read_csv(\"../data/processed/\" + book_path + \"_4gramList.csv\")\n",
    "book_4gramBag = pd.read_csv(\"../data/processed/\" + book_path + \"_4gramBag.csv\")\n",
    "book_001gramList = pd.read_csv(\"../data/processed/\" + book_path + \"_001gramList.csv\")"
   ]
  },
  {
   "cell_type": "code",
   "execution_count": null,
   "metadata": {},
   "outputs": [],
   "source": [
    "## fill df w length of vec = length of word (normiert) and direction of vector = angle as first letter of word  (polar coordinate system)\n",
    "wordWay = book_list.copy()\n",
    "wordWay = wordWay.rename(columns={'list': 'words'})\n",
    "wordWay_words = wordWay.words.tolist()\n",
    "\n",
    "# calc length of vetor as length of word\n",
    "wordWay_len = [len(wordWay_words[i]) for i in range(len(wordWay_words))]\n",
    "    \n",
    "# calc angle as first letter of word\n",
    "wordWay_ang = [int((ord((wordWay_words[i])[0]) - ord('`'))/26*360) for i in range(len(wordWay_words))]\n",
    "\n",
    "wordWay = wordWay.assign(lengths=wordWay_len)\n",
    "wordWay = wordWay.assign(angels=wordWay_ang)\n",
    "\n",
    "wordWay.to_csv(\"../data/transformed/\" + book_path + \"_wordWay.csv\", index = False)"
   ]
  }
 ]
}